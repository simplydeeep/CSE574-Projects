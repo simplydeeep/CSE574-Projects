{
 "cells": [
  {
   "cell_type": "code",
   "execution_count": 13,
   "metadata": {},
   "outputs": [
    {
     "name": "stdout",
     "output_type": "stream",
     "text": [
      "Train on 60000 samples, validate on 10000 samples\n",
      "Epoch 1/5\n",
      "60000/60000 [==============================] - 32s 527us/step - loss: 0.4704 - acc: 0.8298 - val_loss: 0.3581 - val_acc: 0.8714\n",
      "Epoch 2/5\n",
      "60000/60000 [==============================] - 32s 529us/step - loss: 0.3161 - acc: 0.8856 - val_loss: 0.3103 - val_acc: 0.8863\n",
      "Epoch 3/5\n",
      "60000/60000 [==============================] - 31s 524us/step - loss: 0.2761 - acc: 0.9002 - val_loss: 0.2891 - val_acc: 0.8950\n",
      "Epoch 4/5\n",
      "60000/60000 [==============================] - 30s 508us/step - loss: 0.2503 - acc: 0.9087 - val_loss: 0.2890 - val_acc: 0.8896\n",
      "Epoch 5/5\n",
      "60000/60000 [==============================] - 30s 505us/step - loss: 0.2275 - acc: 0.9163 - val_loss: 0.2839 - val_acc: 0.8970\n",
      "10000/10000 [==============================] - 2s 189us/step\n",
      "Test loss:  0.28389407893419266\n",
      "Test accuracy:  0.897\n"
     ]
    }
   ],
   "source": [
    "import util_mnist_reader\n",
    "import keras\n",
    "from keras.datasets import fashion_mnist \n",
    "from keras.layers import Dense, Activation, Flatten, Conv2D, MaxPooling2D\n",
    "from keras.models import Sequential\n",
    "from keras.utils import to_categorical\n",
    "import numpy as np\n",
    "import matplotlib.pyplot as plt\n",
    "from sklearn.metrics import confusion_matrix\n",
    "from keras import callbacks\n",
    "\n",
    "X_train, Y_train = util_mnist_reader.load_mnist('data/fashion', kind='train')\n",
    "X_test, Y_test = util_mnist_reader.load_mnist('data/fashion', kind='t10k')\n",
    "\n",
    "X_train = X_train.reshape(-1, 28,28, 1)\n",
    "X_test = X_test.reshape(-1, 28,28, 1)\n",
    "\n",
    "X_train = X_train.astype(float)\n",
    "X_test = X_test.astype(float)\n",
    "X_train = X_train / 255\n",
    "X_test = X_test / 255\n",
    "\n",
    "y_train = to_categorical(Y_train)\n",
    "y_test = to_categorical(Y_test)\n",
    "\n",
    "# convert predicted values from continuous to binary\n",
    "def y_predict (X, a):\n",
    "    pred = []\n",
    "    for i in range (len(X)): \n",
    "        pred.append(a[i].argmax())\n",
    "    return pred\n",
    "\n",
    "model = Sequential()\n",
    "\n",
    "model.add(Conv2D(64, (3,3), input_shape=(28, 28, 1)))\n",
    "model.add(Activation('relu'))\n",
    "model.add(MaxPooling2D(pool_size=(2,2)))\n",
    "\n",
    "model.add(Conv2D(64, (3,3)))\n",
    "model.add(Activation('relu'))\n",
    "model.add(MaxPooling2D(pool_size=(2,2)))\n",
    "\n",
    "model.add(Flatten())\n",
    "model.add(Dense(64))\n",
    "\n",
    "model.add(Dense(10))\n",
    "model.add(Activation('softmax'))\n",
    "\n",
    "model.compile(loss=keras.losses.categorical_crossentropy, optimizer=keras.optimizers.Adam(),metrics=['accuracy'])\n",
    "history = model.fit(X_train, train_Y_one_hot, validation_data=(X_test, test_Y_one_hot), epochs=5, batch_size=64)\n",
    "\n",
    "test_loss, test_acc = model.evaluate(X_test, y_test)\n",
    "print('Test loss: ',test_loss)\n",
    "print('Test accuracy: ',test_acc)"
   ]
  },
  {
   "cell_type": "code",
   "execution_count": 14,
   "metadata": {},
   "outputs": [
    {
     "data": {
      "image/png": "[encoded data removed]",
      "text/plain": [
       "<Figure size 432x288 with 1 Axes>"
      ]
     },
     "metadata": {
      "needs_background": "light"
     },
     "output_type": "display_data"
    },
    {
     "name": "stdout",
     "output_type": "stream",
     "text": [
      "\n",
      "Training Confusion Matrix:\n",
      "\n",
      " [[5068    0   71  190    8    1  656    0    6    0]\n",
      " [   9 5807    1  155   11    0   15    0    2    0]\n",
      " [  48    0 5168   69  301    0  412    0    2    0]\n",
      " [  29    2   18 5753   94    0  102    0    2    0]\n",
      " [   3    2  210  158 5109    0  514    0    3    1]\n",
      " [   1    0    0    0    0 5939    0    7    0   53]\n",
      " [ 342    0  200  164  194    0 5097    0    3    0]\n",
      " [   0    0    0    0    0  135    0 5408    0  457]\n",
      " [   7    0   11   18    5    7   29    0 5921    2]\n",
      " [   0    0    0    0    0    4    0   32    1 5963]]\n",
      "\n",
      "\n",
      "Test Confusion Matrix:\n",
      "\n",
      " [[807   0  17  36   4   1 129   0   6   0]\n",
      " [  4 957   2  29   3   0   5   0   0   0]\n",
      " [ 11   0 841  13  44   0  91   0   0   0]\n",
      " [ 10   0   9 934  16   0  29   0   2   0]\n",
      " [  2   0  44  32 829   0  93   0   0   0]\n",
      " [  0   0   0   0   0 984   0   6   0  10]\n",
      " [ 82   0  56  32  48   0 773   0   9   0]\n",
      " [  0   0   0   0   0  29   0 883   0  88]\n",
      " [  4   0   4   5   3   1   8   3 971   1]\n",
      " [  1   0   0   0   0   2   0   6   0 991]]\n"
     ]
    }
   ],
   "source": [
    "# plotting loss vs epochs curves\n",
    "plt.plot(history.history['loss'])\n",
    "plt.plot(history.history['val_loss'])\n",
    "plt.title('Model Loss')\n",
    "plt.ylabel('Loss')\n",
    "plt.xlabel('Epochs')\n",
    "plt.legend(['Training loss', 'Validation Loss'], loc='upper right')\n",
    "plt.show()\n",
    "\n",
    "# developing confusion matrix\n",
    "a2_train = model.predict(X_train, batch_size=64)\n",
    "a2_test = model.predict(X_test, batch_size=64)\n",
    "\n",
    "cm_train = confusion_matrix(Y_train, y_predict(X_train, a2_train))\n",
    "cm_test = confusion_matrix(Y_test, y_predict(X_test, a2_test))\n",
    "\n",
    "print ('\\nTraining Confusion Matrix:\\n\\n', cm_train)\n",
    "print ('\\n\\nTest Confusion Matrix:\\n\\n', cm_test)"
   ]
  },
  {
   "cell_type": "code",
   "execution_count": null,
   "metadata": {},
   "outputs": [],
   "source": []
  }
 ],
 "metadata": {
  "kernelspec": {
   "display_name": "Python 3",
   "language": "python",
   "name": "python3"
  },
  "language_info": {
   "codemirror_mode": {
    "name": "ipython",
    "version": 3
   },
   "file_extension": ".py",
   "mimetype": "text/x-python",
   "name": "python",
   "nbconvert_exporter": "python",
   "pygments_lexer": "ipython3",
   "version": "3.7.4"
  }
 },
 "nbformat": 4,
 "nbformat_minor": 2
}

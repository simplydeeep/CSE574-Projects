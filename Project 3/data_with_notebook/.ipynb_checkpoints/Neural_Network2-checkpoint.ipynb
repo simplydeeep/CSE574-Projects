{
 "cells": [
  {
   "cell_type": "code",
   "execution_count": 127,
   "metadata": {},
   "outputs": [],
   "source": [
    "import util_mnist_reader\n",
    "import numpy as np\n",
    "import matplotlib.pyplot as plt\n",
    "import tensorflow as tf\n",
    "from keras.utils.np_utils import to_categorical\n",
    "import matplotlib.pyplot as plt\n",
    "from sklearn.metrics import confusion_matrix\n",
    "from keras.layers import Dense\n",
    "from keras.models import Sequential\n",
    "from keras.optimizers import RMSprop, Adadelta, Adam\n",
    "from keras import callbacks\n",
    "history = History()"
   ]
  },
  {
   "cell_type": "code",
   "execution_count": 128,
   "metadata": {},
   "outputs": [],
   "source": [
    "# Read Fashion MNIST dataset\n",
    "X_train, Y_train = util_mnist_reader.load_mnist('data/fashion', kind='train')\n",
    "X_test, Y_test = util_mnist_reader.load_mnist('data/fashion', kind='t10k')"
   ]
  },
  {
   "cell_type": "code",
   "execution_count": 129,
   "metadata": {},
   "outputs": [],
   "source": [
    "# convert y array to matrix\n",
    "def y_matrix(y):\n",
    "    return to_categorical(y, 10)\n",
    "y_train = y_matrix(Y_train)\n",
    "y_test = y_matrix(Y_test)"
   ]
  },
  {
   "cell_type": "code",
   "execution_count": 130,
   "metadata": {},
   "outputs": [],
   "source": [
    "# Normalization of Data\n",
    "X_train = X_train.astype(float) / 255\n",
    "X_test = X_test.astype(float) / 255"
   ]
  },
  {
   "cell_type": "code",
   "execution_count": 131,
   "metadata": {},
   "outputs": [],
   "source": [
    "# convert predicted values from continuous to binary\n",
    "def y_predict (X, a):\n",
    "    pred = []\n",
    "    for i in range (len(X)): \n",
    "        pred.append(a[i].argmax())\n",
    "    return pred"
   ]
  },
  {
   "cell_type": "code",
   "execution_count": 132,
   "metadata": {},
   "outputs": [
    {
     "name": "stdout",
     "output_type": "stream",
     "text": [
      "_________________________________________________________________\n",
      "Layer (type)                 Output Shape              Param #   \n",
      "=================================================================\n",
      "dense_28 (Dense)             (None, 128)               100480    \n",
      "_________________________________________________________________\n",
      "dense_29 (Dense)             (None, 128)               16512     \n",
      "_________________________________________________________________\n",
      "dense_30 (Dense)             (None, 10)                1290      \n",
      "=================================================================\n",
      "Total params: 118,282\n",
      "Trainable params: 118,282\n",
      "Non-trainable params: 0\n",
      "_________________________________________________________________\n",
      "Train on 60000 samples, validate on 10000 samples\n",
      "Epoch 1/50\n",
      "60000/60000 [==============================] - 7s 119us/step - loss: 0.7483 - categorical_accuracy: 0.7462 - val_loss: 0.5020 - val_categorical_accuracy: 0.8198\n",
      "Epoch 2/50\n",
      "60000/60000 [==============================] - 6s 99us/step - loss: 0.4486 - categorical_accuracy: 0.8377 - val_loss: 0.4951 - val_categorical_accuracy: 0.8184\n",
      "Epoch 3/50\n",
      "60000/60000 [==============================] - 6s 99us/step - loss: 0.4052 - categorical_accuracy: 0.8522 - val_loss: 0.4243 - val_categorical_accuracy: 0.8476\n",
      "Epoch 4/50\n",
      "60000/60000 [==============================] - 6s 98us/step - loss: 0.3786 - categorical_accuracy: 0.8625 - val_loss: 0.3981 - val_categorical_accuracy: 0.8576\n",
      "Epoch 5/50\n",
      "60000/60000 [==============================] - 6s 99us/step - loss: 0.3591 - categorical_accuracy: 0.8689 - val_loss: 0.4040 - val_categorical_accuracy: 0.8536\n",
      "Epoch 6/50\n",
      "60000/60000 [==============================] - 6s 99us/step - loss: 0.3437 - categorical_accuracy: 0.8742 - val_loss: 0.4160 - val_categorical_accuracy: 0.8520\n",
      "Epoch 7/50\n",
      "60000/60000 [==============================] - 6s 97us/step - loss: 0.3315 - categorical_accuracy: 0.8783 - val_loss: 0.3795 - val_categorical_accuracy: 0.8619\n",
      "Epoch 8/50\n",
      "60000/60000 [==============================] - 6s 95us/step - loss: 0.3207 - categorical_accuracy: 0.8826 - val_loss: 0.3647 - val_categorical_accuracy: 0.8688\n",
      "Epoch 9/50\n",
      "60000/60000 [==============================] - 6s 97us/step - loss: 0.3109 - categorical_accuracy: 0.8862 - val_loss: 0.3658 - val_categorical_accuracy: 0.8682\n",
      "Epoch 10/50\n",
      "60000/60000 [==============================] - 6s 97us/step - loss: 0.3033 - categorical_accuracy: 0.8885 - val_loss: 0.3659 - val_categorical_accuracy: 0.8697\n",
      "Epoch 11/50\n",
      "60000/60000 [==============================] - 6s 97us/step - loss: 0.2946 - categorical_accuracy: 0.8912 - val_loss: 0.3620 - val_categorical_accuracy: 0.8720\n",
      "Epoch 12/50\n",
      "60000/60000 [==============================] - 6s 102us/step - loss: 0.2856 - categorical_accuracy: 0.8944 - val_loss: 0.3626 - val_categorical_accuracy: 0.8679\n",
      "Epoch 13/50\n",
      "60000/60000 [==============================] - 7s 111us/step - loss: 0.2802 - categorical_accuracy: 0.8967 - val_loss: 0.3441 - val_categorical_accuracy: 0.8764\n",
      "Epoch 14/50\n",
      "60000/60000 [==============================] - 6s 106us/step - loss: 0.2737 - categorical_accuracy: 0.8998 - val_loss: 0.3582 - val_categorical_accuracy: 0.8669\n",
      "Epoch 15/50\n",
      "60000/60000 [==============================] - 6s 105us/step - loss: 0.2678 - categorical_accuracy: 0.9000 - val_loss: 0.3605 - val_categorical_accuracy: 0.8720\n",
      "Epoch 16/50\n",
      "60000/60000 [==============================] - 6s 107us/step - loss: 0.2621 - categorical_accuracy: 0.9016 - val_loss: 0.3465 - val_categorical_accuracy: 0.8733\n",
      "Epoch 17/50\n",
      "60000/60000 [==============================] - 7s 110us/step - loss: 0.2567 - categorical_accuracy: 0.9043 - val_loss: 0.3282 - val_categorical_accuracy: 0.8823\n",
      "Epoch 18/50\n",
      "60000/60000 [==============================] - 7s 109us/step - loss: 0.2515 - categorical_accuracy: 0.9066 - val_loss: 0.3565 - val_categorical_accuracy: 0.8691\n",
      "Epoch 19/50\n",
      "60000/60000 [==============================] - 6s 104us/step - loss: 0.2466 - categorical_accuracy: 0.9081 - val_loss: 0.3707 - val_categorical_accuracy: 0.8616\n",
      "Epoch 20/50\n",
      "60000/60000 [==============================] - 6s 104us/step - loss: 0.2417 - categorical_accuracy: 0.9105 - val_loss: 0.3661 - val_categorical_accuracy: 0.8630\n",
      "Epoch 21/50\n",
      "60000/60000 [==============================] - 6s 105us/step - loss: 0.2369 - categorical_accuracy: 0.9121 - val_loss: 0.3317 - val_categorical_accuracy: 0.8831\n",
      "Epoch 22/50\n",
      "60000/60000 [==============================] - 6s 103us/step - loss: 0.2334 - categorical_accuracy: 0.9132 - val_loss: 0.3292 - val_categorical_accuracy: 0.8828\n",
      "Epoch 23/50\n",
      "60000/60000 [==============================] - 6s 101us/step - loss: 0.2289 - categorical_accuracy: 0.9149 - val_loss: 0.3665 - val_categorical_accuracy: 0.8688\n",
      "Epoch 24/50\n",
      "60000/60000 [==============================] - 6s 102us/step - loss: 0.2245 - categorical_accuracy: 0.9162 - val_loss: 0.3209 - val_categorical_accuracy: 0.8858\n",
      "Epoch 25/50\n",
      "60000/60000 [==============================] - 6s 101us/step - loss: 0.2205 - categorical_accuracy: 0.9177 - val_loss: 0.3186 - val_categorical_accuracy: 0.8868\n",
      "Epoch 26/50\n",
      "60000/60000 [==============================] - 6s 101us/step - loss: 0.2164 - categorical_accuracy: 0.9197 - val_loss: 0.3333 - val_categorical_accuracy: 0.8849\n",
      "Epoch 27/50\n",
      "60000/60000 [==============================] - 6s 101us/step - loss: 0.2126 - categorical_accuracy: 0.9212 - val_loss: 0.3179 - val_categorical_accuracy: 0.8882\n",
      "Epoch 28/50\n",
      "60000/60000 [==============================] - 6s 100us/step - loss: 0.2092 - categorical_accuracy: 0.9218 - val_loss: 0.3739 - val_categorical_accuracy: 0.8755\n",
      "Epoch 29/50\n",
      "60000/60000 [==============================] - 6s 100us/step - loss: 0.2058 - categorical_accuracy: 0.9244 - val_loss: 0.3292 - val_categorical_accuracy: 0.8851\n",
      "Epoch 30/50\n",
      "60000/60000 [==============================] - 6s 100us/step - loss: 0.2022 - categorical_accuracy: 0.9264 - val_loss: 0.3364 - val_categorical_accuracy: 0.8848\n",
      "Epoch 31/50\n",
      "60000/60000 [==============================] - 6s 100us/step - loss: 0.1990 - categorical_accuracy: 0.9261 - val_loss: 0.3331 - val_categorical_accuracy: 0.8867\n",
      "Epoch 32/50\n",
      "60000/60000 [==============================] - 6s 100us/step - loss: 0.1966 - categorical_accuracy: 0.9278 - val_loss: 0.3561 - val_categorical_accuracy: 0.8824\n",
      "Epoch 33/50\n",
      "60000/60000 [==============================] - 6s 100us/step - loss: 0.1917 - categorical_accuracy: 0.9294 - val_loss: 0.3550 - val_categorical_accuracy: 0.8798\n",
      "Epoch 34/50\n",
      "60000/60000 [==============================] - 6s 100us/step - loss: 0.1897 - categorical_accuracy: 0.9296 - val_loss: 0.3422 - val_categorical_accuracy: 0.8817\n",
      "Epoch 35/50\n",
      "60000/60000 [==============================] - 6s 101us/step - loss: 0.1861 - categorical_accuracy: 0.9309 - val_loss: 0.3365 - val_categorical_accuracy: 0.8894\n",
      "Epoch 36/50\n",
      "60000/60000 [==============================] - 6s 101us/step - loss: 0.1838 - categorical_accuracy: 0.9316 - val_loss: 0.3445 - val_categorical_accuracy: 0.8868\n",
      "Epoch 37/50\n",
      "60000/60000 [==============================] - 6s 100us/step - loss: 0.1808 - categorical_accuracy: 0.9327 - val_loss: 0.3302 - val_categorical_accuracy: 0.8912\n",
      "Epoch 38/50\n",
      "60000/60000 [==============================] - 6s 100us/step - loss: 0.1785 - categorical_accuracy: 0.9344 - val_loss: 0.3321 - val_categorical_accuracy: 0.8897\n",
      "Epoch 39/50\n",
      "60000/60000 [==============================] - 6s 100us/step - loss: 0.1754 - categorical_accuracy: 0.9354 - val_loss: 0.3705 - val_categorical_accuracy: 0.8767\n",
      "Epoch 40/50\n",
      "60000/60000 [==============================] - 6s 101us/step - loss: 0.1733 - categorical_accuracy: 0.9360 - val_loss: 0.3435 - val_categorical_accuracy: 0.8847\n",
      "Epoch 41/50\n",
      "60000/60000 [==============================] - 6s 100us/step - loss: 0.1694 - categorical_accuracy: 0.9379 - val_loss: 0.3855 - val_categorical_accuracy: 0.8746\n",
      "Epoch 42/50\n",
      "60000/60000 [==============================] - 6s 100us/step - loss: 0.1675 - categorical_accuracy: 0.9382 - val_loss: 0.4557 - val_categorical_accuracy: 0.8474\n",
      "Epoch 43/50\n",
      "60000/60000 [==============================] - 6s 100us/step - loss: 0.1651 - categorical_accuracy: 0.9394 - val_loss: 0.3838 - val_categorical_accuracy: 0.8777\n"
     ]
    },
    {
     "name": "stdout",
     "output_type": "stream",
     "text": [
      "Epoch 44/50\n",
      "60000/60000 [==============================] - 6s 100us/step - loss: 0.1626 - categorical_accuracy: 0.9406 - val_loss: 0.3499 - val_categorical_accuracy: 0.8865\n",
      "Epoch 45/50\n",
      "60000/60000 [==============================] - 6s 100us/step - loss: 0.1593 - categorical_accuracy: 0.9418 - val_loss: 0.3396 - val_categorical_accuracy: 0.8901\n",
      "Epoch 46/50\n",
      "60000/60000 [==============================] - 6s 100us/step - loss: 0.1574 - categorical_accuracy: 0.9419 - val_loss: 0.3428 - val_categorical_accuracy: 0.8878\n",
      "Epoch 47/50\n",
      "60000/60000 [==============================] - 6s 101us/step - loss: 0.1562 - categorical_accuracy: 0.9424 - val_loss: 0.3862 - val_categorical_accuracy: 0.8759\n",
      "Epoch 48/50\n",
      "60000/60000 [==============================] - 6s 100us/step - loss: 0.1529 - categorical_accuracy: 0.9438 - val_loss: 0.3444 - val_categorical_accuracy: 0.8897\n",
      "Epoch 49/50\n",
      "60000/60000 [==============================] - 6s 100us/step - loss: 0.1495 - categorical_accuracy: 0.9455 - val_loss: 0.3389 - val_categorical_accuracy: 0.8929\n",
      "Epoch 50/50\n",
      "60000/60000 [==============================] - 6s 102us/step - loss: 0.1490 - categorical_accuracy: 0.9452 - val_loss: 0.3493 - val_categorical_accuracy: 0.8919\n"
     ]
    }
   ],
   "source": [
    "# training the model\n",
    "model = Sequential()\n",
    "model.add(Dense(128, input_dim=X_train.shape[1], activation='sigmoid'))\n",
    "model.add(Dense(128, activation='sigmoid'))\n",
    "model.add(Dense(10, activation='softmax'))\n",
    "\n",
    "model.summary()\n",
    "\n",
    "model.compile(optimizer=Adadelta(), loss='categorical_crossentropy', metrics=['categorical_accuracy'])\n",
    "history = model.fit(X_train, y_train, validation_data=(X_test,y_test), epochs=50, batch_size=64)"
   ]
  },
  {
   "cell_type": "code",
   "execution_count": 133,
   "metadata": {},
   "outputs": [
    {
     "data": {
      "image/png": "[encoded data removed]",
      "text/plain": [
       "<Figure size 432x288 with 1 Axes>"
      ]
     },
     "metadata": {
      "needs_background": "light"
     },
     "output_type": "display_data"
    }
   ],
   "source": [
    "# plotting loss vs epochs curves\n",
    "plt.plot(history.history['loss'])\n",
    "plt.plot(history.history['val_loss'])\n",
    "plt.title('Model Loss')\n",
    "plt.ylabel('Loss')\n",
    "plt.xlabel('Epochs')\n",
    "plt.legend(['Training loss', 'Validation Loss'], loc='upper right')\n",
    "plt.show()"
   ]
  },
  {
   "cell_type": "code",
   "execution_count": 134,
   "metadata": {},
   "outputs": [
    {
     "name": "stdout",
     "output_type": "stream",
     "text": [
      "60000/60000 [==============================] - 1s 24us/step\n",
      "10000/10000 [==============================] - 0s 24us/step\n",
      "\n",
      "Training Accuracy: 0.9511166666666667\n",
      "Test Accuracy: 0.8919\n",
      "\n",
      "Training Confusion Matrix:\n",
      "\n",
      " [[5726    0   17   73    5    1  177    0    1    0]\n",
      " [   0 5956    0   41    0    0    3    0    0    0]\n",
      " [ 120    0 5197   31  438    0  212    0    2    0]\n",
      " [  37    0    4 5856   80    0   23    0    0    0]\n",
      " [   7    3  171  137 5533    0  148    0    1    0]\n",
      " [   0    0    0    0    0 5989    0   11    0    0]\n",
      " [ 560    1  132   99  220    0 4988    0    0    0]\n",
      " [   0    0    0    0    0   15    0 5965    0   20]\n",
      " [   2    0    1    9    1    0    3    0 5984    0]\n",
      " [   0    0    0    0    0    4    0  123    0 5873]]\n",
      "\n",
      "\n",
      "Test Confusion Matrix:\n",
      "\n",
      " [[884   0   9  23   4   2  75   0   3   0]\n",
      " [  4 968   0  20   5   0   3   0   0   0]\n",
      " [ 34   0 773  19  98   1  73   0   2   0]\n",
      " [ 19   5   8 918  24   0  22   0   4   0]\n",
      " [  1   2  65  30 843   1  56   0   2   0]\n",
      " [  0   0   0   1   0 968   0  20   0  11]\n",
      " [137   0  58  36  74   0 688   0   7   0]\n",
      " [  0   0   0   0   0  20   0 964   0  16]\n",
      " [  9   0   1   4   5   6   7   3 965   0]\n",
      " [  0   0   0   0   0  12   1  39   0 948]]\n"
     ]
    }
   ],
   "source": [
    "# calculating accuracy\n",
    "train_loss, train_acc = model.evaluate(X_train, y_train, batch_size=64)\n",
    "test_loss, test_acc = model.evaluate(X_test, y_test, batch_size=64)\n",
    "\n",
    "print ('\\nTraining Accuracy:', train_acc)\n",
    "print ('Test Accuracy:', test_acc)\n",
    "\n",
    "# developing confusion matrix\n",
    "a2_train = model.predict(X_train, batch_size=64)\n",
    "a2_test = model.predict(X_test, batch_size=64)\n",
    "\n",
    "cm_train = confusion_matrix(Y_train, y_predict(X_train, a2_train))\n",
    "cm_test = confusion_matrix(Y_test, y_predict(X_test, a2_test))\n",
    "\n",
    "print ('\\nTraining Confusion Matrix:\\n\\n', cm_train)\n",
    "print ('\\n\\nTest Confusion Matrix:\\n\\n', cm_test)"
   ]
  },
  {
   "cell_type": "code",
   "execution_count": null,
   "metadata": {},
   "outputs": [],
   "source": []
  }
 ],
 "metadata": {
  "kernelspec": {
   "display_name": "Python 3",
   "language": "python",
   "name": "python3"
  },
  "language_info": {
   "codemirror_mode": {
    "name": "ipython",
    "version": 3
   },
   "file_extension": ".py",
   "mimetype": "text/x-python",
   "name": "python",
   "nbconvert_exporter": "python",
   "pygments_lexer": "ipython3",
   "version": "3.7.4"
  }
 },
 "nbformat": 4,
 "nbformat_minor": 2
}

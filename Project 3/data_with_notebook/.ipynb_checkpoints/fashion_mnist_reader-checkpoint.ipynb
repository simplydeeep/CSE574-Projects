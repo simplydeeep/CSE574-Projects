{
 "cells": [
  {
   "cell_type": "code",
   "execution_count": 118,
   "metadata": {
    "scrolled": true
   },
   "outputs": [],
   "source": [
    "# Read Fashion MNIST dataset\n",
    "\n",
    "import util_mnist_reader\n",
    "X_train, y_train = util_mnist_reader.load_mnist('data/fashion', kind='train')\n",
    "X_test, y_test = util_mnist_reader.load_mnist('data/fashion', kind='t10k')\n",
    "\n",
    "# Your code goes here . . .\n",
    "import matplotlib.pyplot as plt #for image visualization as of now"
   ]
  },
  {
   "cell_type": "code",
   "execution_count": 119,
   "metadata": {
    "scrolled": true
   },
   "outputs": [
    {
     "name": "stdout",
     "output_type": "stream",
     "text": [
      "(60000, 784) (60000,) (10000, 784) (10000,)\n"
     ]
    }
   ],
   "source": [
    "# Checking shapes of the arrays\n",
    "print X_train.shape, y_train.shape, X_test.shape, y_test.shape"
   ]
  },
  {
   "cell_type": "code",
   "execution_count": 120,
   "metadata": {
    "scrolled": true
   },
   "outputs": [
    {
     "name": "stdout",
     "output_type": "stream",
     "text": [
      "(60000, 784) (60000, 1) (10000, 784) (10000, 1)\n"
     ]
    }
   ],
   "source": [
    "y_train = y_train.reshape(y_train.shape[0], 1)\n",
    "y_test = y_test.reshape(y_test.shape[0], 1)\n",
    "print X_train.shape, y_train.shape, X_test.shape, y_test.shape"
   ]
  },
  {
   "cell_type": "code",
   "execution_count": 121,
   "metadata": {
    "scrolled": true
   },
   "outputs": [],
   "source": [
    "# Visualization of the images\n",
    "#X_train = X_train.reshape([-1, 28, 28, 1])\n",
    "#plt.imshow(1-X_train[0][:, :, 0], cmap='cool')"
   ]
  },
  {
   "cell_type": "code",
   "execution_count": 122,
   "metadata": {
    "scrolled": true
   },
   "outputs": [],
   "source": [
    "# Normalization of Data\n",
    "X_train = X_train.astype(float) / 255\n",
    "X_test = X_test.astype(float) / 255\n",
    "#print X_train[0]"
   ]
  },
  {
   "cell_type": "code",
   "execution_count": 123,
   "metadata": {
    "scrolled": true
   },
   "outputs": [],
   "source": [
    "import tensorflow as tf"
   ]
  },
  {
   "cell_type": "code",
   "execution_count": 124,
   "metadata": {
    "scrolled": true
   },
   "outputs": [],
   "source": [
    "#defining sigmoid function and sigmoid derivative\n",
    "def sigmoid(z):\n",
    "    return 1 / (1 + np.exp(-z))\n",
    "\n",
    "def sigmoid_derivative(z):\n",
    "    return sigmoid(z) * (1 - sigmoid(z))\n",
    "\n",
    "def softmax(z):\n",
    "    return (np.exp(z.T) / np.sum(np.exp(z), axis=1)).T\n",
    "    #return (np.exp(z.T) / np.sum(np.exp(z), axis=0)).T"
   ]
  },
  {
   "cell_type": "code",
   "execution_count": 125,
   "metadata": {
    "scrolled": true
   },
   "outputs": [],
   "source": [
    "# Hyperparameters\n",
    "epochs = 50\n",
    "input_size, nodes, output_size = 784, 60, 10 # for weights, hidden_size is nodes on hidden layer\n",
    "learning_rate = 0.1 # learning rate"
   ]
  },
  {
   "cell_type": "code",
   "execution_count": 126,
   "metadata": {
    "scrolled": true
   },
   "outputs": [],
   "source": [
    "#initialize weights\n",
    "import numpy as np\n",
    "w_hidden = np.random.randn(60,784) * 0.01\n",
    "w_output = np.random.randn(10,60) * 0.01"
   ]
  },
  {
   "cell_type": "code",
   "execution_count": 127,
   "metadata": {},
   "outputs": [],
   "source": [
    "def L2_reg(lambda_, w1, w2):\n",
    "    return (lambda_ / 2.0) * (np.sum(w1 ** 2) + np.sum(w2 ** 2))\n",
    "\n",
    "\n",
    "def L1_reg(lambda_, w1, w2):\n",
    "    return (lambda_ / 2.0) * (np.abs(w1).sum() + np.abs(w2).sum())\n",
    "\n",
    "\n",
    "def cross_entropy(outputs, y_target):\n",
    "    return -np.sum(np.log(outputs) * y_target, axis=1)"
   ]
  },
  {
   "cell_type": "code",
   "execution_count": 128,
   "metadata": {},
   "outputs": [
    {
     "name": "stdout",
     "output_type": "stream",
     "text": [
      "(60000, 10)\n"
     ]
    }
   ],
   "source": [
    "# to convert y into (60000,10)\n",
    "def target_matrix (y):\n",
    "    matrix = np.zeros((len(y), 10))\n",
    "    for i, val in enumerate(y):\n",
    "        matrix[i, val] = 1\n",
    "    return matrix\n",
    "#print y_train.shape\n",
    "#print y_train\n",
    "print target_matrix (y_train).shape\n",
    "\n",
    "def mle(y, axis=1):\n",
    "    return np.argmax(y, axis)\n",
    "#print mle(one_hot(y_train,10), axis=1)"
   ]
  },
  {
   "cell_type": "code",
   "execution_count": 129,
   "metadata": {},
   "outputs": [],
   "source": [
    "class NNClassifier:\n",
    "\n",
    "    def __init__(self, n_classes, n_features, n_hidden_units=30,\n",
    "                 l1=0.0, l2=0.0, epochs=500, learning_rate=0.01,\n",
    "                 n_batches=1, random_seed=None):\n",
    "\n",
    "        if random_seed:\n",
    "            np.random.seed(random_seed)\n",
    "        self.n_classes = n_classes\n",
    "        self.n_features = n_features\n",
    "        self.n_hidden_units = n_hidden_units\n",
    "        global w_hidden, w_output\n",
    "        self.w1, self.w2 = w_hidden, w_output\n",
    "        self.l1 = l1\n",
    "        self.l2 = l2\n",
    "        self.epochs = epochs\n",
    "        self.learning_rate = learning_rate\n",
    "        self.n_batches = n_batches\n",
    "\n",
    "    def forward(self, X):\n",
    "        net_input = X.copy()\n",
    "        net_hidden = np.dot(w_hidden, net_input.T)\n",
    "        act_hidden = sigmoid(net_hidden)\n",
    "        net_out = np.dot(w_output, act_hidden)\n",
    "        act_out = softmax(net_out)\n",
    "        return net_input, net_hidden, act_hidden, net_out, act_out\n",
    "\n",
    "    def backward(self, net_input, net_hidden, act_hidden, act_out, y):\n",
    "        sigma3 = act_out - y\n",
    "        sigma2 = np.dot(w_output.T, sigma3) * sigmoid_derivative(net_hidden)\n",
    "        grad1 = np.dot(sigma2, net_input)\n",
    "        grad2 = np.dot(sigma3, act_hidden.T)\n",
    "        return grad1, grad2\n",
    "    \n",
    "    def error(self, y, output):\n",
    "        L1_term = L1_reg(self.l1, w_hidden, w_output)\n",
    "        L2_term = L2_reg(self.l2, w_hidden, w_output)\n",
    "        error = cross_entropy(output, y) + L1_term + L2_term\n",
    "        return 0.5 * np.mean(error)\n",
    "\n",
    "    def backprop_step(self, X, y):\n",
    "        net_input, net_hidden, act_hidden, net_out, act_out = self.forward(X)\n",
    "        y = y.T\n",
    "\n",
    "        grad1, grad2 = self.backward(net_input, net_hidden, act_hidden, act_out, y)\n",
    "\n",
    "        # regularize\n",
    "        grad1 += (w_hidden * (self.l1 + self.l2))\n",
    "        grad2 += (w_output * (self.l1 + self.l2))\n",
    "\n",
    "        error = self.error(y, act_out)\n",
    "        \n",
    "        return error, grad1, grad2\n",
    "    \n",
    "    def predict(self, X):\n",
    "        Xt = X.copy()\n",
    "        net_input, net_hidden, act_hidden, net_out, act_out = self.forward(Xt)\n",
    "        return mle(net_out.T)\n",
    "    \n",
    "    def predict_proba(self, X):\n",
    "        Xt = X.copy()\n",
    "        net_input, net_hidden, act_hidden, net_out, act_out = self.forward(Xt)\n",
    "        return softmax(act_out.T)\n",
    "\n",
    "    def fit(self, X, y):\n",
    "        error_ = []\n",
    "        X_data, y_data = X.copy(), y.copy()\n",
    "        y_data_enc = target_array(y_data, 10)\n",
    "                \n",
    "        X_mbs = np.array_split(X_data, 1)\n",
    "        y_mbs = np.array_split(y_data_enc, 1)\n",
    "        \n",
    "        global w_hidden, w_output\n",
    "        \n",
    "        for i in range(epochs):\n",
    "            \n",
    "            epoch_errors = []\n",
    "\n",
    "            for Xi, yi in zip(X_mbs, y_mbs):\n",
    "                \n",
    "                # update weights\n",
    "                error, grad1, grad2 = self.backprop_step(Xi, yi)\n",
    "                epoch_errors.append(error)\n",
    "                w_hidden -= (learning_rate * grad1)\n",
    "                w_output -= (learning_rate * grad2)\n",
    "            error_.append(np.mean(epoch_errors))\n",
    "        return self\n",
    "    \n",
    "    def score(X, y):\n",
    "        y_hat = self.predict(X)\n",
    "        return np.sum(y == y_hat, axis=0) / float(X.shape[0])"
   ]
  },
  {
   "cell_type": "code",
   "execution_count": 130,
   "metadata": {
    "scrolled": true
   },
   "outputs": [
    {
     "name": "stderr",
     "output_type": "stream",
     "text": [
      "/anaconda2/lib/python2.7/site-packages/ipykernel_launcher.py:9: RuntimeWarning: invalid value encountered in divide\n",
      "  if __name__ == '__main__':\n"
     ]
    }
   ],
   "source": [
    "nn = NNClassifier(\n",
    "    n_classes=10, \n",
    "    n_features=784,\n",
    "    n_hidden_units=50,\n",
    "    l2=0.5,\n",
    "    l1=0.0,\n",
    "    epochs=300,\n",
    "    learning_rate=0.001,\n",
    "    n_batches=25,\n",
    "    random_seed=42\n",
    ").fit(X_train, y_train);"
   ]
  },
  {
   "cell_type": "code",
   "execution_count": 131,
   "metadata": {
    "scrolled": true
   },
   "outputs": [
    {
     "name": "stdout",
     "output_type": "stream",
     "text": [
      "Train Accuracy:"
     ]
    },
    {
     "ename": "TypeError",
     "evalue": "score() takes exactly 2 arguments (3 given)",
     "output_type": "error",
     "traceback": [
      "\u001b[0;31m---------------------------------------------------------------------------\u001b[0m",
      "\u001b[0;31mTypeError\u001b[0m                                 Traceback (most recent call last)",
      "\u001b[0;32m<ipython-input-131-84dddff798f8>\u001b[0m in \u001b[0;36m<module>\u001b[0;34m()\u001b[0m\n\u001b[0;32m----> 1\u001b[0;31m \u001b[0;32mprint\u001b[0m \u001b[0;34m'Train Accuracy:'\u001b[0m\u001b[0;34m,\u001b[0m \u001b[0mnn\u001b[0m\u001b[0;34m.\u001b[0m\u001b[0mscore\u001b[0m\u001b[0;34m(\u001b[0m\u001b[0mX_train\u001b[0m\u001b[0;34m,\u001b[0m \u001b[0my_train\u001b[0m\u001b[0;34m)\u001b[0m \u001b[0;34m*\u001b[0m \u001b[0;36m100\u001b[0m\u001b[0;34m\u001b[0m\u001b[0m\n\u001b[0m\u001b[1;32m      2\u001b[0m \u001b[0;32mprint\u001b[0m \u001b[0;34m'Test Accuracy:'\u001b[0m \u001b[0;34m,\u001b[0m\u001b[0mnn\u001b[0m\u001b[0;34m.\u001b[0m\u001b[0mscore\u001b[0m\u001b[0;34m(\u001b[0m\u001b[0mX_test\u001b[0m\u001b[0;34m,\u001b[0m \u001b[0my_test\u001b[0m\u001b[0;34m)\u001b[0m \u001b[0;34m*\u001b[0m \u001b[0;36m100\u001b[0m\u001b[0;34m\u001b[0m\u001b[0m\n",
      "\u001b[0;31mTypeError\u001b[0m: score() takes exactly 2 arguments (3 given)"
     ]
    }
   ],
   "source": [
    "print 'Train Accuracy:', nn.score(X_train, y_train) * 100\n",
    "print 'Test Accuracy:' ,nn.score(X_test, y_test) * 100"
   ]
  },
  {
   "cell_type": "code",
   "execution_count": 2,
   "metadata": {},
   "outputs": [
    {
     "name": "stdout",
     "output_type": "stream",
     "text": [
      "[[-0.01345512 -0.9369294  -0.82336186 ... -0.3664047  -0.68358932\n",
      "   0.58245671]\n",
      " [-0.89142849  0.4308243   0.22172297 ...  0.01561464 -0.17034049\n",
      "  -0.07581876]\n",
      " [-0.59691113 -0.20518226 -0.81814229 ...  0.10707359 -0.51353389\n",
      "  -0.15976466]\n",
      " ...\n",
      " [-0.27032991 -0.007482   -0.0901324  ... -0.11335995 -0.47626236\n",
      "  -0.2305832 ]\n",
      " [-0.94092665  0.05081654  0.97845798 ...  0.31065769 -0.62696234\n",
      "   0.64605745]\n",
      " [-0.56552509 -0.20342645  0.40787213 ...  0.47501014  0.99702749\n",
      "   0.83957881]]\n"
     ]
    }
   ],
   "source": [
    "import numpy as np\n",
    "print np.random.uniform(-1.0, 1.0, size=(60, 784))"
   ]
  },
  {
   "cell_type": "code",
   "execution_count": null,
   "metadata": {},
   "outputs": [],
   "source": [
    "import numpy as np\n",
    "b1 = np.zeros((1, 6))\n",
    "b2 = np.zeros(1, 6)\n",
    "print b1.shape, b2.shape"
   ]
  }
 ],
 "metadata": {
  "kernelspec": {
   "display_name": "Python 2",
   "language": "python",
   "name": "python2"
  },
  "language_info": {
   "codemirror_mode": {
    "name": "ipython",
    "version": 2
   },
   "file_extension": ".py",
   "mimetype": "text/x-python",
   "name": "python",
   "nbconvert_exporter": "python",
   "pygments_lexer": "ipython2",
   "version": "2.7.16"
  }
 },
 "nbformat": 4,
 "nbformat_minor": 2
}

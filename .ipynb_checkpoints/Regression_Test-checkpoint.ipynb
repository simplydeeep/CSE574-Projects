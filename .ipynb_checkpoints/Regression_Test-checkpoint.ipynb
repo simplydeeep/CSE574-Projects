{
 "cells": [
  {
   "cell_type": "code",
   "execution_count": 219,
   "metadata": {},
   "outputs": [
    {
     "name": "stdout",
     "output_type": "stream",
     "text": [
      "0.0\n"
     ]
    }
   ],
   "source": [
    "#import sklearn.datasets\n",
    "from sklearn import preprocessing\n",
    "import pandas as pd\n",
    "import matplotlib.pyplot as plt\n",
    "import numpy as np\n",
    "from sklearn.model_selection import train_test_split\n",
    "from sklearn.metrics import accuracy_score\n",
    "\n",
    "dataFrame = pd.read_csv(\"/Users/deep/Downloads/CSE574/Projects/wdbc.csv\", header = None)\n",
    "dataFrame = dataFrame.drop(dataFrame.columns[0], axis=1)\n",
    "\n",
    "#mapping Malignant and Benign to 1 and 0\n",
    "dataFrame.columns = [\"b\", \"c\", \"d\", \"e\", \"f\", \"g\", \"h\", \"i\", \"j\", \"k\", \"l\", \"m\", \"n\", \"o\", \"p\", \"q\", \"r\", \"s\", \"t\", \"u\", \"v\", \"w\", \"x\", \"y\", \"z\", \"aa\", \"ab\", \"ac\", \"ad\", \"ae\", \"af\"]\n",
    "dataFrame.b = dataFrame.b.replace('M',1)\n",
    "dataFrame.b = dataFrame.b.replace('B',0)\n",
    "\n",
    "#data partioning\n",
    "X_train, X_valtest = train_test_split(dataFrame, test_size=0.2)\n",
    "#print X_train\n",
    "X_val, X_test = train_test_split(X_valtest, test_size=0.5)\n",
    "#print X_val\n",
    "#print X_test\n",
    "\n",
    "#Y = sklearn.datasets.make_moons(n_samples=569, noise=.2)\n",
    "Y = dataFrame.b.values\n",
    "#print Y\n",
    "dataFrame = dataFrame.drop(dataFrame.columns[0], axis=1)\n",
    "\n",
    "#converting pandas dataframe to a numpy array and normalizing\n",
    "datapoints = dataFrame.values\n",
    "min_max_scaler = preprocessing.MinMaxScaler()\n",
    "datapoints_scaled = min_max_scaler.fit_transform(datapoints)\n",
    "dataFrame = pd.DataFrame(datapoints_scaled)\n",
    "#print dataFrame.shape\n",
    "#plt.plot(dataFrame)\n",
    "#plt.show()\n",
    "\n",
    "dataFrame = dataFrame.T\n",
    "#print dataFrame.shape\n",
    "Y = Y.reshape(1, Y.shape[0])\n",
    "#print Y.shape\n",
    "\n",
    "\n",
    "#logistic regression implementation on whole dataset as a test\n",
    "epochs = 10000\n",
    "learningrate = 0.01\n",
    "def sigmoid(z):\n",
    "    return 1 / (1 + np.exp(-z))\n",
    "losstrack = []\n",
    "m = dataFrame.shape[1]\n",
    "#print m\n",
    "w = np.random.randn(dataFrame.shape[0], 1)*0.01\n",
    "#print w.shape\n",
    "b=0\n",
    "for epoch in range(epochs):\n",
    "    z = np.dot(w.T, dataFrame) + b\n",
    "    p = sigmoid(z)\n",
    "    #print p\n",
    "    cost = -np.sum(np.multiply(np.log(p), Y) + np.multiply((1 - Y), np.log(1 - p)))/m\n",
    "    losstrack.append(np.squeeze(cost))\n",
    "    #accuracy.append(np.squeeze(accuracy_score(Y, x)))\n",
    "    dz = p-Y\n",
    "    dw = (np.dot(dataFrame, dz.T))/m\n",
    "    db = (np.sum(dz))/m\n",
    "    w = w - learningrate * dw\n",
    "    b = b - learningrate * db\n",
    "plt.plot(losstrack)\n",
    "plt.show()\n",
    "#accuracy.append(accuracy_score(Y, x))\n",
    "q=p\n",
    "q[q>0.5]=1\n",
    "q[q<0.5]=0\n",
    "q=q.astype(int)\n",
    "print accuracy_score(Y,q)\n",
    "#print x"
   ]
  },
  {
   "cell_type": "code",
   "execution_count": null,
   "metadata": {},
   "outputs": [],
   "source": []
  },
  {
   "cell_type": "code",
   "execution_count": null,
   "metadata": {},
   "outputs": [],
   "source": []
  }
 ],
 "metadata": {
  "kernelspec": {
   "display_name": "Python 2",
   "language": "python",
   "name": "python2"
  },
  "language_info": {
   "codemirror_mode": {
    "name": "ipython",
    "version": 2
   },
   "file_extension": ".py",
   "mimetype": "text/x-python",
   "name": "python",
   "nbconvert_exporter": "python",
   "pygments_lexer": "ipython2",
   "version": "2.7.16"
  }
 },
 "nbformat": 4,
 "nbformat_minor": 2
}

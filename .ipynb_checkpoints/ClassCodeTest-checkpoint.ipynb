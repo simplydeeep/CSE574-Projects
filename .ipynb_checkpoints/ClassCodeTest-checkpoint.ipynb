{
 "cells": [
  {
   "cell_type": "code",
   "execution_count": 47,
   "metadata": {},
   "outputs": [
    {
     "name": "stdout",
     "output_type": "stream",
     "text": [
      "(500, 2) (500,)\n",
      "(2, 500)\n",
      "(1, 500)\n"
     ]
    },
    {
     "data": {
      "image/png": "[encoded data removed]",
      "text/plain": [
       "<Figure size 432x288 with 1 Axes>"
      ]
     },
     "metadata": {
      "needs_background": "light"
     },
     "output_type": "display_data"
    }
   ],
   "source": [
    "import sklearn.datasets\n",
    "import matplotlib.pyplot as plt\n",
    "import numpy as np\n",
    "X, Y = sklearn.datasets.make_moons(n_samples=500, noise=.2)\n",
    "print X.shape, Y.shape\n",
    "X, Y = X.T, Y.reshape(1, Y.shape[0])\n",
    "print X.shape\n",
    "#Y = Y.reshape(1, Y.shape[0])\n",
    "print Y.shape\n",
    "epochs = 1000\n",
    "learningrate = 0.01\n",
    "def sigmoid(z):\n",
    "  return 1 / (1 + np.exp(-z))\n",
    "losstrack = []\n",
    "m = X.shape[1]\n",
    "w = np.random.randn(X.shape[0], 1)*0.01\n",
    "b = 0\n",
    "\n",
    "for epoch in range(epochs):\n",
    "  z = np.dot(w.T, X) + b\n",
    "  p = sigmoid(z)\n",
    "  cost = -np.sum(np.multiply(np.log(p), Y) + np.multiply((1 - Y), np.log(1 - p)))/m\n",
    "  losstrack.append(np.squeeze(cost))\n",
    "  dz = p-Y\n",
    "  dw = (np.dot(X, dz.T))/m\n",
    "  db = (np.sum(dz))/m\n",
    "  w = w - learningrate * dw \n",
    "  b = b - learningrate * db\n",
    "plt.plot(losstrack)\n",
    "plt.show()"
   ]
  },
  {
   "cell_type": "code",
   "execution_count": null,
   "metadata": {},
   "outputs": [],
   "source": []
  }
 ],
 "metadata": {
  "kernelspec": {
   "display_name": "Python 2",
   "language": "python",
   "name": "python2"
  },
  "language_info": {
   "codemirror_mode": {
    "name": "ipython",
    "version": 2
   },
   "file_extension": ".py",
   "mimetype": "text/x-python",
   "name": "python",
   "nbconvert_exporter": "python",
   "pygments_lexer": "ipython2",
   "version": "2.7.16"
  }
 },
 "nbformat": 4,
 "nbformat_minor": 2
}

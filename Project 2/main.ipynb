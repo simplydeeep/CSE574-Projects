{
 "cells": [
  {
   "cell_type": "markdown",
   "metadata": {},
   "source": [
    "# Single Layer Neural Network from Scratch"
   ]
  },
  {
   "cell_type": "code",
   "execution_count": 194,
   "metadata": {},
   "outputs": [],
   "source": [
    "import util_mnist_reader\n",
    "import numpy as np\n",
    "import matplotlib.pyplot as plt\n",
    "import tensorflow as tf\n",
    "from keras.utils.np_utils import to_categorical\n",
    "import matplotlib.pyplot as plt\n",
    "from sklearn.metrics import confusion_matrix"
   ]
  },
  {
   "cell_type": "code",
   "execution_count": 195,
   "metadata": {},
   "outputs": [],
   "source": [
    "# Read Fashion MNIST dataset\n",
    "X_train, Y_train = util_mnist_reader.load_mnist('data/fashion', kind='train')\n",
    "X_test, Y_test = util_mnist_reader.load_mnist('data/fashion', kind='t10k')"
   ]
  },
  {
   "cell_type": "code",
   "execution_count": 196,
   "metadata": {},
   "outputs": [],
   "source": [
    "# convert y array to matrix\n",
    "y_train = to_categorical(Y_train, 10)\n",
    "y_test = to_categorical(Y_test, 10)"
   ]
  },
  {
   "cell_type": "code",
   "execution_count": 197,
   "metadata": {},
   "outputs": [],
   "source": [
    "# Normalization of Data\n",
    "X_train = X_train.astype(float) / 255\n",
    "X_test = X_test.astype(float) / 255"
   ]
  },
  {
   "cell_type": "code",
   "execution_count": 198,
   "metadata": {},
   "outputs": [],
   "source": [
    "# defining sigmoid, sigmoid derivative, softmax and cross entropy functions\n",
    "def sigmoid(z):\n",
    "    return 1 / (1 + np.exp(-z))\n",
    "\n",
    "def sigmoid_derivative(z):\n",
    "    return sigmoid(z) * (1 - sigmoid(z))\n",
    "\n",
    "def softmax(z):\n",
    "    return (np.exp(z.T) / np.sum(np.exp(z), axis=0)).T\n",
    "    \n",
    "def cross_entropy(output, y_target):\n",
    "    return -np.sum(np.log(output) * y_target, axis=0)"
   ]
  },
  {
   "cell_type": "code",
   "execution_count": 199,
   "metadata": {},
   "outputs": [],
   "source": [
    "# forward and backward propagation\n",
    "def forward(X):\n",
    "    X_input = X.copy()\n",
    "    z1 = np.dot(w1, X_input.T) + b1\n",
    "    a1 = sigmoid(z1)\n",
    "    z2 = np.dot(w2, a1) + b2\n",
    "    global a2\n",
    "    a2 = softmax(z2)\n",
    "    return X_input, z1, a1, z2, a2\n",
    "\n",
    "def backward(X_input, z1, a1, a2, y):\n",
    "    da2 = a2 - y\n",
    "    dz1 = np.dot(w2.T, da2)\n",
    "    da1 = dz1 * sigmoid_derivative(z1)\n",
    "    \n",
    "    da1_m = da1.reshape(da1.shape[0], 1)\n",
    "    da2_m = da2.reshape(da2.shape[0], 1)\n",
    "    X_inputm = X_input.reshape(X_input.shape[0], 1)\n",
    "    a1_m = a1.reshape(a1.shape[0], 1)\n",
    "    \n",
    "    w_grad1 = np.dot(da1_m, X_inputm.T)\n",
    "    w_grad2 = np.dot(da2_m, a1_m.T)\n",
    "    \n",
    "    b_grad1 = np.sum(da1_m.T, axis=1)\n",
    "    b_grad2 = np.sum(da2_m.T, axis=1)\n",
    "    \n",
    "    return w_grad1, w_grad2, b_grad1, b_grad2\n",
    "\n",
    "def backprop_step(X, y):\n",
    "        X_input, z1, a1, z2, a2 = forward(X)\n",
    "        y = y.T\n",
    "        w_grad1, w_grad2, b_grad1, b_grad2 = backward(X_input, z1, a1, a2, y)\n",
    "        error = cross_entropy(a2, y)\n",
    "        return error, w_grad1, w_grad2, b_grad1, b_grad2"
   ]
  },
  {
   "cell_type": "code",
   "execution_count": 202,
   "metadata": {},
   "outputs": [],
   "source": [
    "# converting predicted values from continuous to binary\n",
    "def y_predict (X):\n",
    "    pred = []\n",
    "    for i in range (len(X)): \n",
    "        X_input, z1, a1, z2, a2 = forward(X[i])\n",
    "        pred.append(a2.argmax())\n",
    "    return pred\n",
    "\n",
    "# defining function for accuracy\n",
    "def acc_score (X, y):\n",
    "    acc = 0\n",
    "    for i in range (len(X)):\n",
    "        X_input, z1, a1, z2, a2 = forward(X[i])\n",
    "        if a2.argmax() == y[i].argmax():\n",
    "            acc += 1\n",
    "    return float(acc)/len(X)"
   ]
  },
  {
   "cell_type": "code",
   "execution_count": 290,
   "metadata": {},
   "outputs": [],
   "source": [
    "# Hyperparameters\n",
    "epochs = 30\n",
    "nodes = 8\n",
    "learning_rate = 0.001"
   ]
  },
  {
   "cell_type": "code",
   "execution_count": 291,
   "metadata": {},
   "outputs": [],
   "source": [
    "# initialize weights and biases\n",
    "w1 = np.random.randn(nodes, 784) * 0.01\n",
    "w2 = np.random.randn(10, nodes) * 0.01\n",
    "b1 = np.zeros((nodes, ))\n",
    "b2 = np.zeros((10, ))"
   ]
  },
  {
   "cell_type": "code",
   "execution_count": 292,
   "metadata": {},
   "outputs": [],
   "source": [
    "# training the model\n",
    "\n",
    "losstrack_train = []\n",
    "losstrack_val = []\n",
    "for i in range(epochs):\n",
    "    epoch_errors_train = []\n",
    "    epoch_errors_val = []\n",
    "    for j in range (len(X_train)):\n",
    "        # updating weights\n",
    "        error_t, w_grad1, w_grad2, b_grad1, b_grad2 = backprop_step(X_train[j], y_train[j])\n",
    "        epoch_errors_train.append(error_t)\n",
    "        w1 -= learning_rate * w_grad1\n",
    "        w2 -= learning_rate * w_grad2\n",
    "        b1 -= learning_rate * b_grad1\n",
    "        b2 -= learning_rate * b_grad2\n",
    "        \n",
    "    for k in range (len(X_test)):\n",
    "        error_v, w_grad1, w_grad2, b_grad1, b_grad2 = backprop_step(X_test[k], y_test[k])\n",
    "        epoch_errors_val.append(error_v)\n",
    "    losstrack_train.append(np.mean(epoch_errors_train))\n",
    "    losstrack_val.append(np.mean(epoch_errors_val))"
   ]
  },
  {
   "cell_type": "code",
   "execution_count": 294,
   "metadata": {},
   "outputs": [
    {
     "data": {
      "image/png": "[encoded data removed]",
      "text/plain": [
       "<Figure size 432x288 with 1 Axes>"
      ]
     },
     "metadata": {
      "needs_background": "light"
     },
     "output_type": "display_data"
    }
   ],
   "source": [
    "# plotting loss vs epochs curves\n",
    "loss_train = plt.plot(losstrack_train, label = 'Training Loss')\n",
    "loss_val = plt.plot(losstrack_val, label = 'Validation Loss')\n",
    "plt.title('Model Loss: Epochs= 30, Nodes= 8, LR= 0.001')\n",
    "plt.legend()\n",
    "plt.xlabel('Epochs')\n",
    "plt.ylabel('Loss')\n",
    "plt.show()"
   ]
  },
  {
   "cell_type": "code",
   "execution_count": 295,
   "metadata": {},
   "outputs": [
    {
     "name": "stdout",
     "output_type": "stream",
     "text": [
      "Training Accuracy: 0.8629166666666667\n",
      "Test Accuracy: 0.8427\n",
      "\n",
      "Training Confusion Matrix:\n",
      "\n",
      " [[4968   46   66  350   18   11  483    0   57    1]\n",
      " [  14 5800   25  137    5    3   14    1    1    0]\n",
      " [  66   12 4420   65  893    2  519    1   22    0]\n",
      " [ 153   82   39 5457  132    0  125    0   12    0]\n",
      " [   7    8  369  301 4973    0  329    0   13    0]\n",
      " [   3    0    0    4    0 5631    4  245   18   95]\n",
      " [ 954   15  640  250  658    1 3397    1   83    1]\n",
      " [   0    0    0    0    0  142    1 5693   14  150]\n",
      " [  20    3   26   46   23   21   87   30 5741    3]\n",
      " [   1    0    0    2    1   56    1  243    1 5695]]\n",
      "\n",
      "\n",
      "Test Confusion Matrix:\n",
      "\n",
      " [[809   5  10  57   4   2 100   0  13   0]\n",
      " [  2 952   5  30   5   0   5   0   1   0]\n",
      " [ 20   2 712  14 166   1  80   0   5   0]\n",
      " [ 22  17   5 882  33   1  37   0   3   0]\n",
      " [  0   2  89  48 795   0  60   0   6   0]\n",
      " [  0   0   0   1   0 913   0  50   3  33]\n",
      " [154   2 112  56 121   0 528   0  27   0]\n",
      " [  0   0   0   0   0  27   0 951   0  22]\n",
      " [  3   1   7  12   3   5  20   5 944   0]\n",
      " [  1   0   0   0   0   9   0  48   1 941]]\n"
     ]
    }
   ],
   "source": [
    "# calculating accuracy\n",
    "print ('Training Accuracy:', acc_score(X_train, y_train))\n",
    "print ('Test Accuracy:', acc_score(X_test, y_test))\n",
    "\n",
    "# developing confusion matrix   \n",
    "cm_train = confusion_matrix(Y_train, y_predict(X_train))\n",
    "cm_test = confusion_matrix(Y_test, y_predict(X_test))\n",
    "\n",
    "print ('\\nTraining Confusion Matrix:\\n\\n', cm_train)\n",
    "print ('\\n\\nTest Confusion Matrix:\\n\\n', cm_test)"
   ]
  },
  {
   "cell_type": "code",
   "execution_count": null,
   "metadata": {},
   "outputs": [],
   "source": []
  },
  {
   "cell_type": "markdown",
   "metadata": {},
   "source": [
    "# Multi-Layer Neural Network"
   ]
  },
  {
   "cell_type": "code",
   "execution_count": 296,
   "metadata": {},
   "outputs": [],
   "source": [
    "import util_mnist_reader\n",
    "import numpy as np\n",
    "import matplotlib.pyplot as plt\n",
    "import tensorflow as tf\n",
    "from keras.utils.np_utils import to_categorical\n",
    "import matplotlib.pyplot as plt\n",
    "from sklearn.metrics import confusion_matrix\n",
    "from keras.layers import Dense\n",
    "from keras.models import Sequential\n",
    "from keras.optimizers import RMSprop, Adadelta, Adam\n",
    "from keras import callbacks"
   ]
  },
  {
   "cell_type": "code",
   "execution_count": 297,
   "metadata": {},
   "outputs": [],
   "source": [
    "# Read Fashion MNIST dataset\n",
    "X_train, Y_train = util_mnist_reader.load_mnist('data/fashion', kind='train')\n",
    "X_test, Y_test = util_mnist_reader.load_mnist('data/fashion', kind='t10k')"
   ]
  },
  {
   "cell_type": "code",
   "execution_count": 299,
   "metadata": {},
   "outputs": [],
   "source": [
    "# convert y array to matrix\n",
    "y_train = to_categorical(Y_train, 10)\n",
    "y_test = to_categorical(Y_test, 10)"
   ]
  },
  {
   "cell_type": "code",
   "execution_count": 300,
   "metadata": {},
   "outputs": [],
   "source": [
    "# Normalization of Data\n",
    "X_train = X_train.astype(float) / 255\n",
    "X_test = X_test.astype(float) / 255"
   ]
  },
  {
   "cell_type": "code",
   "execution_count": 301,
   "metadata": {},
   "outputs": [],
   "source": [
    "# convert predicted values from continuous to binary\n",
    "def y_predict (X, a):\n",
    "    pred = []\n",
    "    for i in range (len(X)): \n",
    "        pred.append(a[i].argmax())\n",
    "    return pred"
   ]
  },
  {
   "cell_type": "code",
   "execution_count": 310,
   "metadata": {},
   "outputs": [
    {
     "name": "stdout",
     "output_type": "stream",
     "text": [
      "_________________________________________________________________\n",
      "Layer (type)                 Output Shape              Param #   \n",
      "=================================================================\n",
      "dense_38 (Dense)             (None, 64)                50240     \n",
      "_________________________________________________________________\n",
      "dense_39 (Dense)             (None, 64)                4160      \n",
      "_________________________________________________________________\n",
      "dense_40 (Dense)             (None, 64)                4160      \n",
      "_________________________________________________________________\n",
      "dense_41 (Dense)             (None, 10)                650       \n",
      "=================================================================\n",
      "Total params: 59,210\n",
      "Trainable params: 59,210\n",
      "Non-trainable params: 0\n",
      "_________________________________________________________________\n",
      "Train on 60000 samples, validate on 10000 samples\n",
      "Epoch 1/50\n",
      "60000/60000 [==============================] - 4s 60us/step - loss: 2.1351 - categorical_accuracy: 0.2965 - val_loss: 1.6870 - val_categorical_accuracy: 0.4413\n",
      "Epoch 2/50\n",
      "60000/60000 [==============================] - 1s 19us/step - loss: 1.3141 - categorical_accuracy: 0.5593 - val_loss: 1.0889 - val_categorical_accuracy: 0.6130\n",
      "Epoch 3/50\n",
      "60000/60000 [==============================] - 1s 19us/step - loss: 0.9562 - categorical_accuracy: 0.6579 - val_loss: 0.8720 - val_categorical_accuracy: 0.6815\n",
      "Epoch 4/50\n",
      "60000/60000 [==============================] - 1s 19us/step - loss: 0.7974 - categorical_accuracy: 0.6978 - val_loss: 0.7640 - val_categorical_accuracy: 0.7078\n",
      "Epoch 5/50\n",
      "60000/60000 [==============================] - 1s 19us/step - loss: 0.7042 - categorical_accuracy: 0.7309 - val_loss: 0.6864 - val_categorical_accuracy: 0.7442\n",
      "Epoch 6/50\n",
      "60000/60000 [==============================] - 1s 20us/step - loss: 0.6334 - categorical_accuracy: 0.7612 - val_loss: 0.6262 - val_categorical_accuracy: 0.7625\n",
      "Epoch 7/50\n",
      "60000/60000 [==============================] - 2s 27us/step - loss: 0.5816 - categorical_accuracy: 0.7830 - val_loss: 0.5916 - val_categorical_accuracy: 0.7780\n",
      "Epoch 8/50\n",
      "60000/60000 [==============================] - 2s 35us/step - loss: 0.5404 - categorical_accuracy: 0.8035 - val_loss: 0.5505 - val_categorical_accuracy: 0.7985\n",
      "Epoch 9/50\n",
      "60000/60000 [==============================] - 2s 35us/step - loss: 0.5105 - categorical_accuracy: 0.8168 - val_loss: 0.5239 - val_categorical_accuracy: 0.8110\n",
      "Epoch 10/50\n",
      "60000/60000 [==============================] - 2s 35us/step - loss: 0.4860 - categorical_accuracy: 0.8260 - val_loss: 0.5006 - val_categorical_accuracy: 0.8209\n",
      "Epoch 11/50\n",
      "60000/60000 [==============================] - 2s 35us/step - loss: 0.4648 - categorical_accuracy: 0.8351 - val_loss: 0.5074 - val_categorical_accuracy: 0.8191\n",
      "Epoch 12/50\n",
      "60000/60000 [==============================] - 2s 35us/step - loss: 0.4466 - categorical_accuracy: 0.8407 - val_loss: 0.4803 - val_categorical_accuracy: 0.8309\n",
      "Epoch 13/50\n",
      "60000/60000 [==============================] - 2s 36us/step - loss: 0.4325 - categorical_accuracy: 0.8450 - val_loss: 0.4625 - val_categorical_accuracy: 0.8338\n",
      "Epoch 14/50\n",
      "60000/60000 [==============================] - 2s 36us/step - loss: 0.4220 - categorical_accuracy: 0.8501 - val_loss: 0.4489 - val_categorical_accuracy: 0.8425\n",
      "Epoch 15/50\n",
      "60000/60000 [==============================] - 2s 38us/step - loss: 0.4137 - categorical_accuracy: 0.8505 - val_loss: 0.4497 - val_categorical_accuracy: 0.8373\n",
      "Epoch 16/50\n",
      "60000/60000 [==============================] - 2s 40us/step - loss: 0.4025 - categorical_accuracy: 0.8560 - val_loss: 0.4304 - val_categorical_accuracy: 0.8462\n",
      "Epoch 17/50\n",
      "60000/60000 [==============================] - 2s 40us/step - loss: 0.3916 - categorical_accuracy: 0.8587 - val_loss: 0.4308 - val_categorical_accuracy: 0.8469\n",
      "Epoch 18/50\n",
      "60000/60000 [==============================] - 2s 35us/step - loss: 0.3886 - categorical_accuracy: 0.8604 - val_loss: 0.4431 - val_categorical_accuracy: 0.8386\n",
      "Epoch 19/50\n",
      "60000/60000 [==============================] - 2s 34us/step - loss: 0.3818 - categorical_accuracy: 0.8628 - val_loss: 0.4301 - val_categorical_accuracy: 0.8459\n",
      "Epoch 20/50\n",
      "60000/60000 [==============================] - 2s 34us/step - loss: 0.3760 - categorical_accuracy: 0.8634 - val_loss: 0.4083 - val_categorical_accuracy: 0.8553\n",
      "Epoch 21/50\n",
      "60000/60000 [==============================] - 2s 34us/step - loss: 0.3659 - categorical_accuracy: 0.8684 - val_loss: 0.4236 - val_categorical_accuracy: 0.8490\n",
      "Epoch 22/50\n",
      "60000/60000 [==============================] - 2s 34us/step - loss: 0.3644 - categorical_accuracy: 0.8690 - val_loss: 0.3991 - val_categorical_accuracy: 0.8585\n",
      "Epoch 23/50\n",
      "60000/60000 [==============================] - 2s 34us/step - loss: 0.3616 - categorical_accuracy: 0.8704 - val_loss: 0.4002 - val_categorical_accuracy: 0.8581\n",
      "Epoch 24/50\n",
      "60000/60000 [==============================] - 2s 34us/step - loss: 0.3547 - categorical_accuracy: 0.8709 - val_loss: 0.4413 - val_categorical_accuracy: 0.8392\n",
      "Epoch 25/50\n",
      "60000/60000 [==============================] - 2s 35us/step - loss: 0.3455 - categorical_accuracy: 0.8751 - val_loss: 0.4102 - val_categorical_accuracy: 0.8510\n",
      "Epoch 26/50\n",
      "60000/60000 [==============================] - 2s 36us/step - loss: 0.3451 - categorical_accuracy: 0.8749 - val_loss: 0.4000 - val_categorical_accuracy: 0.8568\n",
      "Epoch 27/50\n",
      "60000/60000 [==============================] - 2s 35us/step - loss: 0.3413 - categorical_accuracy: 0.8762 - val_loss: 0.3830 - val_categorical_accuracy: 0.8649\n",
      "Epoch 28/50\n",
      "60000/60000 [==============================] - 2s 35us/step - loss: 0.3402 - categorical_accuracy: 0.8758 - val_loss: 0.3943 - val_categorical_accuracy: 0.8618\n",
      "Epoch 29/50\n",
      "60000/60000 [==============================] - 2s 35us/step - loss: 0.3312 - categorical_accuracy: 0.8804 - val_loss: 0.3881 - val_categorical_accuracy: 0.8621\n",
      "Epoch 30/50\n",
      "60000/60000 [==============================] - 2s 35us/step - loss: 0.3285 - categorical_accuracy: 0.8805 - val_loss: 0.3773 - val_categorical_accuracy: 0.8641\n",
      "Epoch 31/50\n",
      "60000/60000 [==============================] - 2s 36us/step - loss: 0.3294 - categorical_accuracy: 0.8796 - val_loss: 0.3831 - val_categorical_accuracy: 0.8637\n",
      "Epoch 32/50\n",
      "60000/60000 [==============================] - 2s 40us/step - loss: 0.3244 - categorical_accuracy: 0.8828 - val_loss: 0.3942 - val_categorical_accuracy: 0.8591\n",
      "Epoch 33/50\n",
      "60000/60000 [==============================] - 3s 44us/step - loss: 0.3196 - categorical_accuracy: 0.8843 - val_loss: 0.3709 - val_categorical_accuracy: 0.8699\n",
      "Epoch 34/50\n",
      "60000/60000 [==============================] - 2s 36us/step - loss: 0.3172 - categorical_accuracy: 0.8851 - val_loss: 0.3851 - val_categorical_accuracy: 0.8631\n",
      "Epoch 35/50\n",
      "60000/60000 [==============================] - 2s 36us/step - loss: 0.3176 - categorical_accuracy: 0.8851 - val_loss: 0.3807 - val_categorical_accuracy: 0.8635\n",
      "Epoch 36/50\n",
      "60000/60000 [==============================] - 2s 36us/step - loss: 0.3142 - categorical_accuracy: 0.8860 - val_loss: 0.3684 - val_categorical_accuracy: 0.8699\n",
      "Epoch 37/50\n",
      "60000/60000 [==============================] - 2s 35us/step - loss: 0.3122 - categorical_accuracy: 0.8866 - val_loss: 0.3678 - val_categorical_accuracy: 0.8674\n",
      "Epoch 38/50\n",
      "60000/60000 [==============================] - 2s 35us/step - loss: 0.3059 - categorical_accuracy: 0.8881 - val_loss: 0.3765 - val_categorical_accuracy: 0.8645\n",
      "Epoch 39/50\n",
      "60000/60000 [==============================] - 2s 35us/step - loss: 0.3066 - categorical_accuracy: 0.8882 - val_loss: 0.3642 - val_categorical_accuracy: 0.8713\n",
      "Epoch 40/50\n",
      "60000/60000 [==============================] - 2s 35us/step - loss: 0.3035 - categorical_accuracy: 0.8900 - val_loss: 0.3912 - val_categorical_accuracy: 0.8602\n",
      "Epoch 41/50\n",
      "60000/60000 [==============================] - 2s 34us/step - loss: 0.3008 - categorical_accuracy: 0.8913 - val_loss: 0.3620 - val_categorical_accuracy: 0.8713\n",
      "Epoch 42/50\n",
      "60000/60000 [==============================] - 2s 34us/step - loss: 0.2966 - categorical_accuracy: 0.8922 - val_loss: 0.3545 - val_categorical_accuracy: 0.8741\n",
      "Epoch 43/50\n"
     ]
    },
    {
     "name": "stdout",
     "output_type": "stream",
     "text": [
      "60000/60000 [==============================] - 2s 34us/step - loss: 0.2951 - categorical_accuracy: 0.8918 - val_loss: 0.3635 - val_categorical_accuracy: 0.8728\n",
      "Epoch 44/50\n",
      "60000/60000 [==============================] - 2s 34us/step - loss: 0.2947 - categorical_accuracy: 0.8918 - val_loss: 0.3728 - val_categorical_accuracy: 0.8651\n",
      "Epoch 45/50\n",
      "60000/60000 [==============================] - 2s 34us/step - loss: 0.2914 - categorical_accuracy: 0.8934 - val_loss: 0.3772 - val_categorical_accuracy: 0.8635\n",
      "Epoch 46/50\n",
      "60000/60000 [==============================] - 2s 35us/step - loss: 0.2907 - categorical_accuracy: 0.8938 - val_loss: 0.3854 - val_categorical_accuracy: 0.8622\n",
      "Epoch 47/50\n",
      "60000/60000 [==============================] - 2s 41us/step - loss: 0.2921 - categorical_accuracy: 0.8935 - val_loss: 0.3975 - val_categorical_accuracy: 0.8538\n",
      "Epoch 48/50\n",
      "60000/60000 [==============================] - 2s 38us/step - loss: 0.2865 - categorical_accuracy: 0.8953 - val_loss: 0.3607 - val_categorical_accuracy: 0.8719\n",
      "Epoch 49/50\n",
      "60000/60000 [==============================] - 2s 35us/step - loss: 0.2851 - categorical_accuracy: 0.8950 - val_loss: 0.3533 - val_categorical_accuracy: 0.8754\n",
      "Epoch 50/50\n",
      "60000/60000 [==============================] - 2s 38us/step - loss: 0.2822 - categorical_accuracy: 0.8977 - val_loss: 0.3667 - val_categorical_accuracy: 0.8688\n"
     ]
    }
   ],
   "source": [
    "# training the model\n",
    "model = Sequential()\n",
    "model.add(Dense(64, input_dim=X_train.shape[1], activation='sigmoid'))\n",
    "model.add(Dense(64, activation='sigmoid'))\n",
    "model.add(Dense(64, activation='sigmoid'))\n",
    "model.add(Dense(10, activation='softmax'))\n",
    "\n",
    "model.summary()\n",
    "\n",
    "model.compile(optimizer=Adadelta(), loss='categorical_crossentropy', metrics=['categorical_accuracy'])\n",
    "history = model.fit(X_train, y_train, validation_data=(X_test,y_test), epochs=50, batch_size=500)"
   ]
  },
  {
   "cell_type": "code",
   "execution_count": 311,
   "metadata": {},
   "outputs": [
    {
     "data": {
      "image/png": "[encoded data removed]",
      "text/plain": [
       "<Figure size 432x288 with 1 Axes>"
      ]
     },
     "metadata": {
      "needs_background": "light"
     },
     "output_type": "display_data"
    }
   ],
   "source": [
    "# plotting loss vs epochs curves\n",
    "plt.plot(history.history['loss'])\n",
    "plt.plot(history.history['val_loss'])\n",
    "plt.title('MNN Loss: Epochs= 40, Layers= 2, Batch size= 100')\n",
    "plt.ylabel('Loss')\n",
    "plt.xlabel('Epochs')\n",
    "plt.legend(['Training loss', 'Validation Loss'], loc='upper right')\n",
    "plt.show()"
   ]
  },
  {
   "cell_type": "code",
   "execution_count": 312,
   "metadata": {},
   "outputs": [
    {
     "name": "stdout",
     "output_type": "stream",
     "text": [
      "60000/60000 [==============================] - 3s 56us/step\n",
      "10000/10000 [==============================] - 1s 54us/step\n",
      "\n",
      "Training Accuracy: 0.89575\n",
      "Test Accuracy: 0.8688\n",
      "\n",
      "Training Confusion Matrix:\n",
      "\n",
      " [[5275    7  116  108    7    1  458    0   28    0]\n",
      " [  14 5888   11   71    4    2   10    0    0    0]\n",
      " [  43    2 5363   36  317    0  225    0   14    0]\n",
      " [ 181   44   54 5437  180    0   91    0   13    0]\n",
      " [   8    5  802  151 4758    0  266    0   10    0]\n",
      " [   0    0    1    0    0 5931    1   43    6   18]\n",
      " [ 814    5  680   97  354    1 4024    0   25    0]\n",
      " [   0    0    0    0    0  316    0 5280    5  399]\n",
      " [   7    0   27   19   17   16   35    7 5870    2]\n",
      " [   0    0    0    0    0   37    0   43    1 5919]]\n",
      "\n",
      "\n",
      "Test Confusion Matrix:\n",
      "\n",
      " [[845   2  21  24   3   1  96   0   8   0]\n",
      " [  4 962   4  25   2   0   3   0   0   0]\n",
      " [ 14   0 865   9  62   0  48   0   2   0]\n",
      " [ 27  11  17 877  36   1  26   0   5   0]\n",
      " [  0   1 164  28 753   0  53   0   1   0]\n",
      " [  0   1   0   0   0 965   0  12   2  20]\n",
      " [150   0 136  26  66   1 613   0   8   0]\n",
      " [  0   0   0   0   0  66   0 873   0  61]\n",
      " [  3   1   6   4   4   6   7   2 965   2]\n",
      " [  0   0   0   0   0  11   1  17   1 970]]\n"
     ]
    }
   ],
   "source": [
    "# calculating accuracy\n",
    "train_loss, train_acc = model.evaluate(X_train, y_train, batch_size=500)\n",
    "test_loss, test_acc = model.evaluate(X_test, y_test, batch_size=500)\n",
    "\n",
    "print ('\\nTraining Accuracy:', train_acc)\n",
    "print ('Test Accuracy:', test_acc)\n",
    "\n",
    "# developing confusion matrix\n",
    "a2_train = model.predict(X_train, batch_size=500)\n",
    "a2_test = model.predict(X_test, batch_size=500)\n",
    "\n",
    "cm_train = confusion_matrix(Y_train, y_predict(X_train, a2_train))\n",
    "cm_test = confusion_matrix(Y_test, y_predict(X_test, a2_test))\n",
    "\n",
    "print ('\\nTraining Confusion Matrix:\\n\\n', cm_train)\n",
    "print ('\\n\\nTest Confusion Matrix:\\n\\n', cm_test)"
   ]
  },
  {
   "cell_type": "code",
   "execution_count": null,
   "metadata": {},
   "outputs": [],
   "source": []
  },
  {
   "cell_type": "markdown",
   "metadata": {},
   "source": [
    "# Convolutional Neural Network"
   ]
  },
  {
   "cell_type": "code",
   "execution_count": 313,
   "metadata": {},
   "outputs": [],
   "source": [
    "import util_mnist_reader\n",
    "import keras\n",
    "from keras.datasets import fashion_mnist \n",
    "from keras.layers import Dense, Activation, Flatten, Conv2D, MaxPooling2D\n",
    "from keras.models import Sequential\n",
    "from keras.utils import to_categorical\n",
    "import numpy as np\n",
    "import matplotlib.pyplot as plt\n",
    "from sklearn.metrics import confusion_matrix\n",
    "from keras import callbacks"
   ]
  },
  {
   "cell_type": "code",
   "execution_count": 314,
   "metadata": {},
   "outputs": [],
   "source": [
    "# Read Fashion MNIST dataset\n",
    "X_train, Y_train = util_mnist_reader.load_mnist('data/fashion', kind='train')\n",
    "X_test, Y_test = util_mnist_reader.load_mnist('data/fashion', kind='t10k')"
   ]
  },
  {
   "cell_type": "code",
   "execution_count": 315,
   "metadata": {},
   "outputs": [],
   "source": [
    "X_train = X_train.reshape(-1, 28,28, 1)\n",
    "X_test = X_test.reshape(-1, 28,28, 1)\n",
    "\n",
    "X_train = X_train.astype(float)\n",
    "X_test = X_test.astype(float)\n",
    "\n",
    "X_train = X_train / 255\n",
    "X_test = X_test / 255\n",
    "\n",
    "y_train = to_categorical(Y_train)\n",
    "y_test = to_categorical(Y_test)"
   ]
  },
  {
   "cell_type": "code",
   "execution_count": 316,
   "metadata": {},
   "outputs": [],
   "source": [
    "# convert predicted values from continuous to binary\n",
    "def y_predict (X, a):\n",
    "    pred = []\n",
    "    for i in range (len(X)): \n",
    "        pred.append(a[i].argmax())\n",
    "    return pred"
   ]
  },
  {
   "cell_type": "code",
   "execution_count": 319,
   "metadata": {},
   "outputs": [
    {
     "name": "stdout",
     "output_type": "stream",
     "text": [
      "Train on 60000 samples, validate on 10000 samples\n",
      "Epoch 1/40\n",
      "60000/60000 [==============================] - 64s 1ms/step - loss: 2.3699 - acc: 0.1051 - val_loss: 2.2922 - val_acc: 0.1003\n",
      "Epoch 2/40\n",
      "60000/60000 [==============================] - 65s 1ms/step - loss: 2.0631 - acc: 0.3072 - val_loss: 1.3420 - val_acc: 0.5244\n",
      "Epoch 3/40\n",
      "60000/60000 [==============================] - 61s 1ms/step - loss: 0.9537 - acc: 0.6654 - val_loss: 0.8080 - val_acc: 0.7043\n",
      "Epoch 4/40\n",
      "60000/60000 [==============================] - 64s 1ms/step - loss: 0.7349 - acc: 0.7338 - val_loss: 0.7088 - val_acc: 0.7410\n",
      "Epoch 5/40\n",
      "60000/60000 [==============================] - 63s 1ms/step - loss: 0.6730 - acc: 0.7491 - val_loss: 0.6719 - val_acc: 0.7540\n",
      "Epoch 6/40\n",
      "60000/60000 [==============================] - 62s 1ms/step - loss: 0.6294 - acc: 0.7653 - val_loss: 0.6261 - val_acc: 0.7680\n",
      "Epoch 7/40\n",
      "60000/60000 [==============================] - 60s 993us/step - loss: 0.5979 - acc: 0.7753 - val_loss: 0.5964 - val_acc: 0.7800\n",
      "Epoch 8/40\n",
      "60000/60000 [==============================] - 62s 1ms/step - loss: 0.5681 - acc: 0.7867 - val_loss: 0.5738 - val_acc: 0.7857\n",
      "Epoch 9/40\n",
      "60000/60000 [==============================] - 63s 1ms/step - loss: 0.5510 - acc: 0.7933 - val_loss: 0.5569 - val_acc: 0.7935\n",
      "Epoch 10/40\n",
      "60000/60000 [==============================] - 63s 1ms/step - loss: 0.5285 - acc: 0.8041 - val_loss: 0.5490 - val_acc: 0.7957\n",
      "Epoch 11/40\n",
      "60000/60000 [==============================] - 63s 1ms/step - loss: 0.5084 - acc: 0.8122 - val_loss: 0.5197 - val_acc: 0.8058\n",
      "Epoch 12/40\n",
      "60000/60000 [==============================] - 64s 1ms/step - loss: 0.4949 - acc: 0.8177 - val_loss: 0.5112 - val_acc: 0.8120\n",
      "Epoch 13/40\n",
      "60000/60000 [==============================] - 63s 1ms/step - loss: 0.4787 - acc: 0.8232 - val_loss: 0.4958 - val_acc: 0.8232\n",
      "Epoch 14/40\n",
      "60000/60000 [==============================] - 61s 1ms/step - loss: 0.4709 - acc: 0.8265 - val_loss: 0.4827 - val_acc: 0.8240\n",
      "Epoch 15/40\n",
      "60000/60000 [==============================] - 60s 1ms/step - loss: 0.4555 - acc: 0.8339 - val_loss: 0.4852 - val_acc: 0.8207\n",
      "Epoch 16/40\n",
      "60000/60000 [==============================] - 60s 995us/step - loss: 0.4403 - acc: 0.8409 - val_loss: 0.4630 - val_acc: 0.8282\n",
      "Epoch 17/40\n",
      "60000/60000 [==============================] - 58s 968us/step - loss: 0.4322 - acc: 0.8440 - val_loss: 0.4519 - val_acc: 0.8379\n",
      "Epoch 18/40\n",
      "60000/60000 [==============================] - 60s 994us/step - loss: 0.4292 - acc: 0.8453 - val_loss: 0.4607 - val_acc: 0.8319\n",
      "Epoch 19/40\n",
      "60000/60000 [==============================] - 58s 970us/step - loss: 0.4211 - acc: 0.8465 - val_loss: 0.4490 - val_acc: 0.8355\n",
      "Epoch 20/40\n",
      "60000/60000 [==============================] - 58s 970us/step - loss: 0.4116 - acc: 0.8515 - val_loss: 0.4340 - val_acc: 0.8449\n",
      "Epoch 21/40\n",
      "60000/60000 [==============================] - 59s 975us/step - loss: 0.4037 - acc: 0.8548 - val_loss: 0.4305 - val_acc: 0.8459\n",
      "Epoch 22/40\n",
      "60000/60000 [==============================] - 58s 973us/step - loss: 0.3977 - acc: 0.8557 - val_loss: 0.4286 - val_acc: 0.8448\n",
      "Epoch 23/40\n",
      "60000/60000 [==============================] - 58s 972us/step - loss: 0.3876 - acc: 0.8594 - val_loss: 0.4183 - val_acc: 0.8489\n",
      "Epoch 24/40\n",
      "60000/60000 [==============================] - 58s 974us/step - loss: 0.3851 - acc: 0.8610 - val_loss: 0.4475 - val_acc: 0.8340\n",
      "Epoch 25/40\n",
      "60000/60000 [==============================] - 58s 975us/step - loss: 0.3835 - acc: 0.8597 - val_loss: 0.4074 - val_acc: 0.8539\n",
      "Epoch 26/40\n",
      "60000/60000 [==============================] - 58s 974us/step - loss: 0.3751 - acc: 0.8640 - val_loss: 0.4033 - val_acc: 0.8512\n",
      "Epoch 27/40\n",
      "60000/60000 [==============================] - 59s 975us/step - loss: 0.3679 - acc: 0.8653 - val_loss: 0.3973 - val_acc: 0.8592\n",
      "Epoch 28/40\n",
      "60000/60000 [==============================] - 58s 971us/step - loss: 0.3665 - acc: 0.8657 - val_loss: 0.3905 - val_acc: 0.8607\n",
      "Epoch 29/40\n",
      "60000/60000 [==============================] - 58s 971us/step - loss: 0.3590 - acc: 0.8684 - val_loss: 0.3794 - val_acc: 0.8633\n",
      "Epoch 30/40\n",
      "60000/60000 [==============================] - 59s 977us/step - loss: 0.3535 - acc: 0.8702 - val_loss: 0.3905 - val_acc: 0.8569\n",
      "Epoch 31/40\n",
      "60000/60000 [==============================] - 58s 973us/step - loss: 0.3566 - acc: 0.8699 - val_loss: 0.3852 - val_acc: 0.8618\n",
      "Epoch 32/40\n",
      "60000/60000 [==============================] - 61s 1ms/step - loss: 0.3456 - acc: 0.8743 - val_loss: 0.3815 - val_acc: 0.8631\n",
      "Epoch 33/40\n",
      "60000/60000 [==============================] - 60s 999us/step - loss: 0.3435 - acc: 0.8742 - val_loss: 0.3761 - val_acc: 0.8659\n",
      "Epoch 34/40\n",
      "60000/60000 [==============================] - 108s 2ms/step - loss: 0.3408 - acc: 0.8759 - val_loss: 0.3671 - val_acc: 0.8673\n",
      "Epoch 35/40\n",
      "60000/60000 [==============================] - 66s 1ms/step - loss: 0.3370 - acc: 0.8768 - val_loss: 0.3713 - val_acc: 0.8671\n",
      "Epoch 36/40\n",
      "60000/60000 [==============================] - 61s 1ms/step - loss: 0.3356 - acc: 0.8772 - val_loss: 0.3667 - val_acc: 0.8681\n",
      "Epoch 37/40\n",
      "60000/60000 [==============================] - 59s 979us/step - loss: 0.3333 - acc: 0.8774 - val_loss: 0.3583 - val_acc: 0.8707\n",
      "Epoch 38/40\n",
      "60000/60000 [==============================] - 58s 973us/step - loss: 0.3270 - acc: 0.8805 - val_loss: 0.3620 - val_acc: 0.8696\n",
      "Epoch 39/40\n",
      "60000/60000 [==============================] - 59s 979us/step - loss: 0.3260 - acc: 0.8800 - val_loss: 0.3603 - val_acc: 0.8687\n",
      "Epoch 40/40\n",
      "60000/60000 [==============================] - 61s 1ms/step - loss: 0.3315 - acc: 0.8769 - val_loss: 0.3703 - val_acc: 0.8625\n"
     ]
    }
   ],
   "source": [
    "model = Sequential()\n",
    "\n",
    "model.add(Conv2D(64, (3,3), input_shape=(28, 28, 1)))\n",
    "model.add(Activation('sigmoid'))\n",
    "model.add(MaxPooling2D(pool_size=(2,2)))\n",
    "\n",
    "model.add(Conv2D(64, (3,3)))\n",
    "model.add(Activation('sigmoid'))\n",
    "model.add(MaxPooling2D(pool_size=(2,2)))\n",
    "\n",
    "model.add(Flatten())\n",
    "model.add(Dense(64))\n",
    "\n",
    "model.add(Dense(10))\n",
    "model.add(Activation('softmax'))\n",
    "\n",
    "model.compile(loss=keras.losses.categorical_crossentropy, optimizer=keras.optimizers.Adam(),metrics=['accuracy'])\n",
    "history = model.fit(X_train, y_train, validation_data=(X_test, y_test), epochs=40, batch_size=1000)"
   ]
  },
  {
   "cell_type": "code",
   "execution_count": 320,
   "metadata": {},
   "outputs": [
    {
     "data": {
      "image/png": "[encoded data removed]",
      "text/plain": [
       "<Figure size 432x288 with 1 Axes>"
      ]
     },
     "metadata": {
      "needs_background": "light"
     },
     "output_type": "display_data"
    }
   ],
   "source": [
    "# plotting loss vs epochs curves\n",
    "plt.plot(history.history['loss'])\n",
    "plt.plot(history.history['val_loss'])\n",
    "plt.title('CNN Model Loss: Epochs= 40, Batch size = 1000')\n",
    "plt.ylabel('Loss')\n",
    "plt.xlabel('Epochs')\n",
    "plt.legend(['Training loss', 'Validation Loss'], loc='upper right')\n",
    "plt.show()"
   ]
  },
  {
   "cell_type": "code",
   "execution_count": 182,
   "metadata": {},
   "outputs": [
    {
     "name": "stdout",
     "output_type": "stream",
     "text": [
      "60000/60000 [==============================] - 17s 276us/step\n",
      "10000/10000 [==============================] - 3s 278us/step\n",
      "\n",
      "Training Accuracy:  0.8956333333333333\n",
      "Test accuracy:  0.8839\n",
      "\n",
      "Training Confusion Matrix:\n",
      "\n",
      " [[4960    3   88  143   16    3  771    1   15    0]\n",
      " [   6 5889    3   83    5    0    9    0    5    0]\n",
      " [  46    6 4816   72  621    2  423    1   13    0]\n",
      " [ 110   13   23 5600   88    0  151    1    9    5]\n",
      " [   7    6  233  289 5095    0  361    1    8    0]\n",
      " [   0    0    0    0    0 5756    0  157    1   86]\n",
      " [ 609    8  455  156  547    0 4202    1   21    1]\n",
      " [   0    0    0    0    0   24    0 5697    0  279]\n",
      " [  15    4   25   11   17   24   53   15 5828    8]\n",
      " [   0    0    0    0    0    3    0  102    0 5895]]\n",
      "\n",
      "\n",
      "Test Confusion Matrix:\n",
      "\n",
      " [[806   0  11  21   3   2 149   0   8   0]\n",
      " [  1 970   0  22   3   0   3   0   1   0]\n",
      " [  8   1 800  12  93   1  84   0   1   0]\n",
      " [ 12   1  15 921  13   0  36   0   2   0]\n",
      " [  4   1  44  50 837   0  64   0   0   0]\n",
      " [  0   0   0   0   0 958   1  30   0  11]\n",
      " [107   2  83  30 104   1 663   0  10   0]\n",
      " [  0   0   0   0   0  11   0 939   0  50]\n",
      " [  3   1   6   2   6   4   8   6 961   3]\n",
      " [  1   0   0   0   0   2   0  23   0 974]]\n"
     ]
    }
   ],
   "source": [
    "# calculating accuracy\n",
    "train_loss, train_acc = model.evaluate(X_train, y_train)\n",
    "test_loss, test_acc = model.evaluate(X_test, y_test)\n",
    "print('\\nTraining Accuracy: ',train_acc)\n",
    "print('Test accuracy: ',test_acc)\n",
    "\n",
    "# developing confusion matrix\n",
    "a2_train = model.predict(X_train, batch_size=64)\n",
    "a2_test = model.predict(X_test, batch_size=64)\n",
    "\n",
    "cm_train = confusion_matrix(Y_train, y_predict(X_train, a2_train))\n",
    "cm_test = confusion_matrix(Y_test, y_predict(X_test, a2_test))\n",
    "\n",
    "print ('\\nTraining Confusion Matrix:\\n\\n', cm_train)\n",
    "print ('\\n\\nTest Confusion Matrix:\\n\\n', cm_test)"
   ]
  },
  {
   "cell_type": "code",
   "execution_count": null,
   "metadata": {},
   "outputs": [],
   "source": []
  }
 ],
 "metadata": {
  "kernelspec": {
   "display_name": "Python 3",
   "language": "python",
   "name": "python3"
  },
  "language_info": {
   "codemirror_mode": {
    "name": "ipython",
    "version": 3
   },
   "file_extension": ".py",
   "mimetype": "text/x-python",
   "name": "python",
   "nbconvert_exporter": "python",
   "pygments_lexer": "ipython3",
   "version": "3.7.4"
  }
 },
 "nbformat": 4,
 "nbformat_minor": 2
}
